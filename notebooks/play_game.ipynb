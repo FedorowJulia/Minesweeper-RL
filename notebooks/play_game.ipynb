{
 "cells": [
  {
   "cell_type": "code",
   "execution_count": null,
   "metadata": {},
   "outputs": [],
   "source": [
    "import sys\n",
    "import numpy as np\n",
    "sys.path.append(\"..\")"
   ]
  },
  {
   "cell_type": "code",
   "execution_count": null,
   "metadata": {},
   "outputs": [],
   "source": [
    "from Game import Minesweeper\n",
    "from Agent import DeepQNAgent"
   ]
  },
  {
   "cell_type": "code",
   "execution_count": null,
   "metadata": {},
   "outputs": [],
   "source": [
    "def play_game_interactively(game, agent, episodes=1):\n",
    "    for episode in range(episodes):\n",
    "        game.reset()\n",
    "        total_reward = 0\n",
    "        done = False\n",
    "        print(\"Game Start! Use 0-based indexing for coordinates.\")\n",
    "\n",
    "        while not done:\n",
    "            game.print_board(reveal_all=False)\n",
    "            try:\n",
    "                x, y = map(int, input(\"Enter coordinates (x y): \").strip().split())\n",
    "                action = game.action_to_id(x, y)\n",
    "                if 0 <= x < game.width and 0 <= y < game.height and not game.revealed[y][x]:\n",
    "                    _, result = game.reveal_tile(x, y, is_direct_action=True)\n",
    "                    reward = agent.get_reward(game, result, action, is_direct_action=True)\n",
    "                    total_reward += reward\n",
    "                    print(f\"Action: ({x},{y}), Result: {result}, Reward: {reward}\")\n",
    "                else:\n",
    "                    print(\"Invalid action. Either out of bounds or tile already revealed. Try again.\")\n",
    "                done = game.is_finished()\n",
    "            except ValueError:\n",
    "                print(\"Invalid input. Please enter x and y coordinates separated by a space.\")\n",
    "            \n",
    "            if done:\n",
    "                game.print_board(reveal_all=True)\n",
    "                print(f\"Game Over. Result: {result}, Total Reward: {total_reward}\")\n",
    "                if result == 'won':\n",
    "                    print(\"Congratulations, you've won!\")\n",
    "                else:\n",
    "                    print(\"Sorry, you've lost. Try again!\")"
   ]
  },
  {
   "cell_type": "code",
   "execution_count": null,
   "metadata": {},
   "outputs": [],
   "source": [
    "width, height, num_mines = 9, 9, 10\n",
    "game = Minesweeper(width, height, num_mines)\n",
    "state_size = width * height\n",
    "action_size = width * height\n",
    "agent = DeepQNAgent(game, num_episodes=1, state_size=state_size, action_size=action_size, learning_rate=0.01)"
   ]
  },
  {
   "cell_type": "code",
   "execution_count": null,
   "metadata": {},
   "outputs": [],
   "source": [
    "play_game_interactively(game, agent)"
   ]
  }
 ],
 "metadata": {
  "kernelspec": {
   "display_name": "venv",
   "language": "python",
   "name": "python3"
  },
  "language_info": {
   "codemirror_mode": {
    "name": "ipython",
    "version": 3
   },
   "file_extension": ".py",
   "mimetype": "text/x-python",
   "name": "python",
   "nbconvert_exporter": "python",
   "pygments_lexer": "ipython3",
   "version": "3.11.1"
  },
  "orig_nbformat": 4
 },
 "nbformat": 4,
 "nbformat_minor": 2
}
